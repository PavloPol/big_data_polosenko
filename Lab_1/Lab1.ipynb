{
 "cells": [
  {
   "cell_type": "code",
   "execution_count": 39,
   "id": "9a65717d",
   "metadata": {},
   "outputs": [],
   "source": [
    "import pandas as pd"
   ]
  },
  {
   "cell_type": "code",
   "execution_count": 40,
   "id": "a2e8c035",
   "metadata": {},
   "outputs": [
    {
     "data": {
      "text/html": [
       "<div>\n",
       "<style scoped>\n",
       "    .dataframe tbody tr th:only-of-type {\n",
       "        vertical-align: middle;\n",
       "    }\n",
       "\n",
       "    .dataframe tbody tr th {\n",
       "        vertical-align: top;\n",
       "    }\n",
       "\n",
       "    .dataframe thead th {\n",
       "        text-align: right;\n",
       "    }\n",
       "</style>\n",
       "<table border=\"1\" class=\"dataframe\">\n",
       "  <thead>\n",
       "    <tr style=\"text-align: right;\">\n",
       "      <th></th>\n",
       "      <th>Age</th>\n",
       "      <th>Gender</th>\n",
       "      <th>Impressions</th>\n",
       "      <th>Clicks</th>\n",
       "      <th>Signed_In</th>\n",
       "    </tr>\n",
       "  </thead>\n",
       "  <tbody>\n",
       "    <tr>\n",
       "      <th>0</th>\n",
       "      <td>36</td>\n",
       "      <td>0</td>\n",
       "      <td>3</td>\n",
       "      <td>0</td>\n",
       "      <td>1</td>\n",
       "    </tr>\n",
       "    <tr>\n",
       "      <th>1</th>\n",
       "      <td>73</td>\n",
       "      <td>1</td>\n",
       "      <td>3</td>\n",
       "      <td>0</td>\n",
       "      <td>1</td>\n",
       "    </tr>\n",
       "    <tr>\n",
       "      <th>2</th>\n",
       "      <td>30</td>\n",
       "      <td>0</td>\n",
       "      <td>3</td>\n",
       "      <td>0</td>\n",
       "      <td>1</td>\n",
       "    </tr>\n",
       "    <tr>\n",
       "      <th>3</th>\n",
       "      <td>49</td>\n",
       "      <td>1</td>\n",
       "      <td>3</td>\n",
       "      <td>0</td>\n",
       "      <td>1</td>\n",
       "    </tr>\n",
       "    <tr>\n",
       "      <th>4</th>\n",
       "      <td>47</td>\n",
       "      <td>1</td>\n",
       "      <td>11</td>\n",
       "      <td>0</td>\n",
       "      <td>1</td>\n",
       "    </tr>\n",
       "    <tr>\n",
       "      <th>...</th>\n",
       "      <td>...</td>\n",
       "      <td>...</td>\n",
       "      <td>...</td>\n",
       "      <td>...</td>\n",
       "      <td>...</td>\n",
       "    </tr>\n",
       "    <tr>\n",
       "      <th>458436</th>\n",
       "      <td>0</td>\n",
       "      <td>0</td>\n",
       "      <td>2</td>\n",
       "      <td>0</td>\n",
       "      <td>0</td>\n",
       "    </tr>\n",
       "    <tr>\n",
       "      <th>458437</th>\n",
       "      <td>0</td>\n",
       "      <td>0</td>\n",
       "      <td>4</td>\n",
       "      <td>0</td>\n",
       "      <td>0</td>\n",
       "    </tr>\n",
       "    <tr>\n",
       "      <th>458438</th>\n",
       "      <td>72</td>\n",
       "      <td>1</td>\n",
       "      <td>5</td>\n",
       "      <td>0</td>\n",
       "      <td>1</td>\n",
       "    </tr>\n",
       "    <tr>\n",
       "      <th>458439</th>\n",
       "      <td>0</td>\n",
       "      <td>0</td>\n",
       "      <td>5</td>\n",
       "      <td>0</td>\n",
       "      <td>0</td>\n",
       "    </tr>\n",
       "    <tr>\n",
       "      <th>458440</th>\n",
       "      <td>0</td>\n",
       "      <td>0</td>\n",
       "      <td>3</td>\n",
       "      <td>0</td>\n",
       "      <td>0</td>\n",
       "    </tr>\n",
       "  </tbody>\n",
       "</table>\n",
       "<p>458441 rows × 5 columns</p>\n",
       "</div>"
      ],
      "text/plain": [
       "        Age  Gender  Impressions  Clicks  Signed_In\n",
       "0        36       0            3       0          1\n",
       "1        73       1            3       0          1\n",
       "2        30       0            3       0          1\n",
       "3        49       1            3       0          1\n",
       "4        47       1           11       0          1\n",
       "...     ...     ...          ...     ...        ...\n",
       "458436    0       0            2       0          0\n",
       "458437    0       0            4       0          0\n",
       "458438   72       1            5       0          1\n",
       "458439    0       0            5       0          0\n",
       "458440    0       0            3       0          0\n",
       "\n",
       "[458441 rows x 5 columns]"
      ]
     },
     "execution_count": 40,
     "metadata": {},
     "output_type": "execute_result"
    }
   ],
   "source": [
    "data = pd.read_csv(\"dds_ch2_nyt/nyt1.csv\")\n",
    "\n",
    "data"
   ]
  },
  {
   "cell_type": "code",
   "execution_count": 41,
   "id": "682ba49d",
   "metadata": {},
   "outputs": [
    {
     "data": {
      "text/html": [
       "<div>\n",
       "<style scoped>\n",
       "    .dataframe tbody tr th:only-of-type {\n",
       "        vertical-align: middle;\n",
       "    }\n",
       "\n",
       "    .dataframe tbody tr th {\n",
       "        vertical-align: top;\n",
       "    }\n",
       "\n",
       "    .dataframe thead th {\n",
       "        text-align: right;\n",
       "    }\n",
       "</style>\n",
       "<table border=\"1\" class=\"dataframe\">\n",
       "  <thead>\n",
       "    <tr style=\"text-align: right;\">\n",
       "      <th></th>\n",
       "      <th>Age</th>\n",
       "      <th>Impressions</th>\n",
       "      <th>Clicks</th>\n",
       "      <th>Signed_In</th>\n",
       "    </tr>\n",
       "    <tr>\n",
       "      <th>Gender</th>\n",
       "      <th></th>\n",
       "      <th></th>\n",
       "      <th></th>\n",
       "      <th></th>\n",
       "    </tr>\n",
       "  </thead>\n",
       "  <tbody>\n",
       "    <tr>\n",
       "      <th>0</th>\n",
       "      <td>153070</td>\n",
       "      <td>153070</td>\n",
       "      <td>153070</td>\n",
       "      <td>153070</td>\n",
       "    </tr>\n",
       "    <tr>\n",
       "      <th>1</th>\n",
       "      <td>168265</td>\n",
       "      <td>168265</td>\n",
       "      <td>168265</td>\n",
       "      <td>168265</td>\n",
       "    </tr>\n",
       "  </tbody>\n",
       "</table>\n",
       "</div>"
      ],
      "text/plain": [
       "           Age  Impressions  Clicks  Signed_In\n",
       "Gender                                        \n",
       "0       153070       153070  153070     153070\n",
       "1       168265       168265  168265     168265"
      ]
     },
     "execution_count": 41,
     "metadata": {},
     "output_type": "execute_result"
    }
   ],
   "source": [
    "data[data.Age > 0].groupby(\"Gender\").count()"
   ]
  },
  {
   "cell_type": "code",
   "execution_count": 42,
   "id": "53abe708",
   "metadata": {},
   "outputs": [
    {
     "data": {
      "text/html": [
       "<div>\n",
       "<style scoped>\n",
       "    .dataframe tbody tr th:only-of-type {\n",
       "        vertical-align: middle;\n",
       "    }\n",
       "\n",
       "    .dataframe tbody tr th {\n",
       "        vertical-align: top;\n",
       "    }\n",
       "\n",
       "    .dataframe thead th {\n",
       "        text-align: right;\n",
       "    }\n",
       "</style>\n",
       "<table border=\"1\" class=\"dataframe\">\n",
       "  <thead>\n",
       "    <tr style=\"text-align: right;\">\n",
       "      <th></th>\n",
       "      <th>Age</th>\n",
       "      <th>Gender</th>\n",
       "      <th>Impressions</th>\n",
       "      <th>Clicks</th>\n",
       "      <th>Signed_In</th>\n",
       "    </tr>\n",
       "  </thead>\n",
       "  <tbody>\n",
       "    <tr>\n",
       "      <th>0</th>\n",
       "      <td>36</td>\n",
       "      <td>0</td>\n",
       "      <td>3</td>\n",
       "      <td>0</td>\n",
       "      <td>1</td>\n",
       "    </tr>\n",
       "    <tr>\n",
       "      <th>1</th>\n",
       "      <td>73</td>\n",
       "      <td>1</td>\n",
       "      <td>3</td>\n",
       "      <td>0</td>\n",
       "      <td>1</td>\n",
       "    </tr>\n",
       "    <tr>\n",
       "      <th>2</th>\n",
       "      <td>30</td>\n",
       "      <td>0</td>\n",
       "      <td>3</td>\n",
       "      <td>0</td>\n",
       "      <td>1</td>\n",
       "    </tr>\n",
       "    <tr>\n",
       "      <th>3</th>\n",
       "      <td>49</td>\n",
       "      <td>1</td>\n",
       "      <td>3</td>\n",
       "      <td>0</td>\n",
       "      <td>1</td>\n",
       "    </tr>\n",
       "    <tr>\n",
       "      <th>4</th>\n",
       "      <td>47</td>\n",
       "      <td>1</td>\n",
       "      <td>11</td>\n",
       "      <td>0</td>\n",
       "      <td>1</td>\n",
       "    </tr>\n",
       "    <tr>\n",
       "      <th>...</th>\n",
       "      <td>...</td>\n",
       "      <td>...</td>\n",
       "      <td>...</td>\n",
       "      <td>...</td>\n",
       "      <td>...</td>\n",
       "    </tr>\n",
       "    <tr>\n",
       "      <th>458432</th>\n",
       "      <td>30</td>\n",
       "      <td>0</td>\n",
       "      <td>4</td>\n",
       "      <td>0</td>\n",
       "      <td>1</td>\n",
       "    </tr>\n",
       "    <tr>\n",
       "      <th>458433</th>\n",
       "      <td>21</td>\n",
       "      <td>1</td>\n",
       "      <td>2</td>\n",
       "      <td>0</td>\n",
       "      <td>1</td>\n",
       "    </tr>\n",
       "    <tr>\n",
       "      <th>458434</th>\n",
       "      <td>61</td>\n",
       "      <td>1</td>\n",
       "      <td>6</td>\n",
       "      <td>0</td>\n",
       "      <td>1</td>\n",
       "    </tr>\n",
       "    <tr>\n",
       "      <th>458435</th>\n",
       "      <td>51</td>\n",
       "      <td>0</td>\n",
       "      <td>7</td>\n",
       "      <td>0</td>\n",
       "      <td>1</td>\n",
       "    </tr>\n",
       "    <tr>\n",
       "      <th>458438</th>\n",
       "      <td>72</td>\n",
       "      <td>1</td>\n",
       "      <td>5</td>\n",
       "      <td>0</td>\n",
       "      <td>1</td>\n",
       "    </tr>\n",
       "  </tbody>\n",
       "</table>\n",
       "<p>321335 rows × 5 columns</p>\n",
       "</div>"
      ],
      "text/plain": [
       "        Age  Gender  Impressions  Clicks  Signed_In\n",
       "0        36       0            3       0          1\n",
       "1        73       1            3       0          1\n",
       "2        30       0            3       0          1\n",
       "3        49       1            3       0          1\n",
       "4        47       1           11       0          1\n",
       "...     ...     ...          ...     ...        ...\n",
       "458432   30       0            4       0          1\n",
       "458433   21       1            2       0          1\n",
       "458434   61       1            6       0          1\n",
       "458435   51       0            7       0          1\n",
       "458438   72       1            5       0          1\n",
       "\n",
       "[321335 rows x 5 columns]"
      ]
     },
     "execution_count": 42,
     "metadata": {},
     "output_type": "execute_result"
    }
   ],
   "source": [
    "data_no_null_age = data[(data.Signed_In == 1) & (data.Age > 0)]\n",
    "data_no_null_age"
   ]
  },
  {
   "cell_type": "code",
   "execution_count": 43,
   "id": "b04760ba",
   "metadata": {},
   "outputs": [
    {
     "data": {
      "text/plain": [
       "<AxesSubplot: >"
      ]
     },
     "execution_count": 43,
     "metadata": {},
     "output_type": "execute_result"
    },
    {
     "data": {
      "image/png": "[encoded data removed]",
      "text/plain": [
       "<Figure size 640x480 with 1 Axes>"
      ]
     },
     "metadata": {},
     "output_type": "display_data"
    }
   ],
   "source": [
    "data_no_null_age.Age.hist()"
   ]
  },
  {
   "cell_type": "code",
   "execution_count": null,
   "id": "2d46833c",
   "metadata": {},
   "outputs": [],
   "source": []
  },
  {
   "cell_type": "code",
   "execution_count": 44,
   "id": "1ade9120",
   "metadata": {},
   "outputs": [],
   "source": [
    "def clasificate(data):\n",
    "    if data < 18:\n",
    "        return \"<18\"\n",
    "    if data <= 24:\n",
    "        return \"18-24\"\n",
    "    if data <= 34:\n",
    "        return \"25-34\"\n",
    "    if data <= 44:\n",
    "        return \"35-44\"\n",
    "    if data <= 54:\n",
    "        return \"45-54\"\n",
    "    if data <= 64:\n",
    "        return \"55-64\"\n",
    "    return \"65+\""
   ]
  },
  {
   "cell_type": "code",
   "execution_count": 45,
   "id": "20d7fd3a",
   "metadata": {},
   "outputs": [
    {
     "name": "stderr",
     "output_type": "stream",
     "text": [
      "C:\\Users\\Павло\\AppData\\Local\\Temp\\ipykernel_5904\\1372102028.py:1: SettingWithCopyWarning: \n",
      "A value is trying to be set on a copy of a slice from a DataFrame.\n",
      "Try using .loc[row_indexer,col_indexer] = value instead\n",
      "\n",
      "See the caveats in the documentation: https://pandas.pydata.org/pandas-docs/stable/user_guide/indexing.html#returning-a-view-versus-a-copy\n",
      "  data_no_null_age[\"age_group\"] = data_no_null_age.Age.apply(lambda x: clasificate(x))\n"
     ]
    },
    {
     "data": {
      "text/html": [
       "<div>\n",
       "<style scoped>\n",
       "    .dataframe tbody tr th:only-of-type {\n",
       "        vertical-align: middle;\n",
       "    }\n",
       "\n",
       "    .dataframe tbody tr th {\n",
       "        vertical-align: top;\n",
       "    }\n",
       "\n",
       "    .dataframe thead th {\n",
       "        text-align: right;\n",
       "    }\n",
       "</style>\n",
       "<table border=\"1\" class=\"dataframe\">\n",
       "  <thead>\n",
       "    <tr style=\"text-align: right;\">\n",
       "      <th></th>\n",
       "      <th>Age</th>\n",
       "      <th>Gender</th>\n",
       "      <th>Impressions</th>\n",
       "      <th>Clicks</th>\n",
       "      <th>Signed_In</th>\n",
       "      <th>age_group</th>\n",
       "    </tr>\n",
       "  </thead>\n",
       "  <tbody>\n",
       "    <tr>\n",
       "      <th>0</th>\n",
       "      <td>36</td>\n",
       "      <td>0</td>\n",
       "      <td>3</td>\n",
       "      <td>0</td>\n",
       "      <td>1</td>\n",
       "      <td>35-44</td>\n",
       "    </tr>\n",
       "    <tr>\n",
       "      <th>1</th>\n",
       "      <td>73</td>\n",
       "      <td>1</td>\n",
       "      <td>3</td>\n",
       "      <td>0</td>\n",
       "      <td>1</td>\n",
       "      <td>65+</td>\n",
       "    </tr>\n",
       "    <tr>\n",
       "      <th>2</th>\n",
       "      <td>30</td>\n",
       "      <td>0</td>\n",
       "      <td>3</td>\n",
       "      <td>0</td>\n",
       "      <td>1</td>\n",
       "      <td>25-34</td>\n",
       "    </tr>\n",
       "    <tr>\n",
       "      <th>3</th>\n",
       "      <td>49</td>\n",
       "      <td>1</td>\n",
       "      <td>3</td>\n",
       "      <td>0</td>\n",
       "      <td>1</td>\n",
       "      <td>45-54</td>\n",
       "    </tr>\n",
       "    <tr>\n",
       "      <th>4</th>\n",
       "      <td>47</td>\n",
       "      <td>1</td>\n",
       "      <td>11</td>\n",
       "      <td>0</td>\n",
       "      <td>1</td>\n",
       "      <td>45-54</td>\n",
       "    </tr>\n",
       "    <tr>\n",
       "      <th>...</th>\n",
       "      <td>...</td>\n",
       "      <td>...</td>\n",
       "      <td>...</td>\n",
       "      <td>...</td>\n",
       "      <td>...</td>\n",
       "      <td>...</td>\n",
       "    </tr>\n",
       "    <tr>\n",
       "      <th>458432</th>\n",
       "      <td>30</td>\n",
       "      <td>0</td>\n",
       "      <td>4</td>\n",
       "      <td>0</td>\n",
       "      <td>1</td>\n",
       "      <td>25-34</td>\n",
       "    </tr>\n",
       "    <tr>\n",
       "      <th>458433</th>\n",
       "      <td>21</td>\n",
       "      <td>1</td>\n",
       "      <td>2</td>\n",
       "      <td>0</td>\n",
       "      <td>1</td>\n",
       "      <td>18-24</td>\n",
       "    </tr>\n",
       "    <tr>\n",
       "      <th>458434</th>\n",
       "      <td>61</td>\n",
       "      <td>1</td>\n",
       "      <td>6</td>\n",
       "      <td>0</td>\n",
       "      <td>1</td>\n",
       "      <td>55-64</td>\n",
       "    </tr>\n",
       "    <tr>\n",
       "      <th>458435</th>\n",
       "      <td>51</td>\n",
       "      <td>0</td>\n",
       "      <td>7</td>\n",
       "      <td>0</td>\n",
       "      <td>1</td>\n",
       "      <td>45-54</td>\n",
       "    </tr>\n",
       "    <tr>\n",
       "      <th>458438</th>\n",
       "      <td>72</td>\n",
       "      <td>1</td>\n",
       "      <td>5</td>\n",
       "      <td>0</td>\n",
       "      <td>1</td>\n",
       "      <td>65+</td>\n",
       "    </tr>\n",
       "  </tbody>\n",
       "</table>\n",
       "<p>321335 rows × 6 columns</p>\n",
       "</div>"
      ],
      "text/plain": [
       "        Age  Gender  Impressions  Clicks  Signed_In age_group\n",
       "0        36       0            3       0          1     35-44\n",
       "1        73       1            3       0          1       65+\n",
       "2        30       0            3       0          1     25-34\n",
       "3        49       1            3       0          1     45-54\n",
       "4        47       1           11       0          1     45-54\n",
       "...     ...     ...          ...     ...        ...       ...\n",
       "458432   30       0            4       0          1     25-34\n",
       "458433   21       1            2       0          1     18-24\n",
       "458434   61       1            6       0          1     55-64\n",
       "458435   51       0            7       0          1     45-54\n",
       "458438   72       1            5       0          1       65+\n",
       "\n",
       "[321335 rows x 6 columns]"
      ]
     },
     "execution_count": 45,
     "metadata": {},
     "output_type": "execute_result"
    }
   ],
   "source": [
    "data_no_null_age[\"age_group\"] = data_no_null_age.Age.apply(lambda x: clasificate(x))\n",
    "data_no_null_age"
   ]
  },
  {
   "cell_type": "code",
   "execution_count": 46,
   "id": "929f611f",
   "metadata": {},
   "outputs": [
    {
     "data": {
      "text/html": [
       "<div>\n",
       "<style scoped>\n",
       "    .dataframe tbody tr th:only-of-type {\n",
       "        vertical-align: middle;\n",
       "    }\n",
       "\n",
       "    .dataframe tbody tr th {\n",
       "        vertical-align: top;\n",
       "    }\n",
       "\n",
       "    .dataframe thead th {\n",
       "        text-align: right;\n",
       "    }\n",
       "</style>\n",
       "<table border=\"1\" class=\"dataframe\">\n",
       "  <thead>\n",
       "    <tr style=\"text-align: right;\">\n",
       "      <th></th>\n",
       "      <th>Age</th>\n",
       "      <th>Impressions</th>\n",
       "      <th>Clicks</th>\n",
       "    </tr>\n",
       "    <tr>\n",
       "      <th>age_group</th>\n",
       "      <th></th>\n",
       "      <th></th>\n",
       "      <th></th>\n",
       "    </tr>\n",
       "  </thead>\n",
       "  <tbody>\n",
       "    <tr>\n",
       "      <th>18-24</th>\n",
       "      <td>20.833317</td>\n",
       "      <td>5.002826</td>\n",
       "      <td>0.053251</td>\n",
       "    </tr>\n",
       "    <tr>\n",
       "      <th>25-34</th>\n",
       "      <td>29.503352</td>\n",
       "      <td>4.993829</td>\n",
       "      <td>0.050486</td>\n",
       "    </tr>\n",
       "    <tr>\n",
       "      <th>35-44</th>\n",
       "      <td>39.494680</td>\n",
       "      <td>5.021507</td>\n",
       "      <td>0.051679</td>\n",
       "    </tr>\n",
       "    <tr>\n",
       "      <th>45-54</th>\n",
       "      <td>49.492580</td>\n",
       "      <td>5.010406</td>\n",
       "      <td>0.050274</td>\n",
       "    </tr>\n",
       "    <tr>\n",
       "      <th>55-64</th>\n",
       "      <td>59.498189</td>\n",
       "      <td>5.022308</td>\n",
       "      <td>0.101837</td>\n",
       "    </tr>\n",
       "    <tr>\n",
       "      <th>65+</th>\n",
       "      <td>72.988697</td>\n",
       "      <td>5.012347</td>\n",
       "      <td>0.151289</td>\n",
       "    </tr>\n",
       "    <tr>\n",
       "      <th>&lt;18</th>\n",
       "      <td>15.262149</td>\n",
       "      <td>5.007159</td>\n",
       "      <td>0.149335</td>\n",
       "    </tr>\n",
       "  </tbody>\n",
       "</table>\n",
       "</div>"
      ],
      "text/plain": [
       "                 Age  Impressions    Clicks\n",
       "age_group                                  \n",
       "18-24      20.833317     5.002826  0.053251\n",
       "25-34      29.503352     4.993829  0.050486\n",
       "35-44      39.494680     5.021507  0.051679\n",
       "45-54      49.492580     5.010406  0.050274\n",
       "55-64      59.498189     5.022308  0.101837\n",
       "65+        72.988697     5.012347  0.151289\n",
       "<18        15.262149     5.007159  0.149335"
      ]
     },
     "execution_count": 46,
     "metadata": {},
     "output_type": "execute_result"
    }
   ],
   "source": [
    "grouped_data = data_no_null_age[[\"Age\", \"Impressions\", \"Clicks\", \"age_group\"]].groupby(\"age_group\").mean()\n",
    "grouped_data"
   ]
  },
  {
   "cell_type": "code",
   "execution_count": 47,
   "id": "4aea050a",
   "metadata": {
    "scrolled": true
   },
   "outputs": [
    {
     "data": {
      "text/html": [
       "<div>\n",
       "<style scoped>\n",
       "    .dataframe tbody tr th:only-of-type {\n",
       "        vertical-align: middle;\n",
       "    }\n",
       "\n",
       "    .dataframe tbody tr th {\n",
       "        vertical-align: top;\n",
       "    }\n",
       "\n",
       "    .dataframe thead th {\n",
       "        text-align: right;\n",
       "    }\n",
       "</style>\n",
       "<table border=\"1\" class=\"dataframe\">\n",
       "  <thead>\n",
       "    <tr style=\"text-align: right;\">\n",
       "      <th></th>\n",
       "      <th>Age</th>\n",
       "      <th>Impressions</th>\n",
       "      <th>Clicks</th>\n",
       "      <th>CTR</th>\n",
       "    </tr>\n",
       "    <tr>\n",
       "      <th>age_group</th>\n",
       "      <th></th>\n",
       "      <th></th>\n",
       "      <th></th>\n",
       "      <th></th>\n",
       "    </tr>\n",
       "  </thead>\n",
       "  <tbody>\n",
       "    <tr>\n",
       "      <th>18-24</th>\n",
       "      <td>20.833317</td>\n",
       "      <td>5.002826</td>\n",
       "      <td>0.053251</td>\n",
       "      <td>0.010644</td>\n",
       "    </tr>\n",
       "    <tr>\n",
       "      <th>25-34</th>\n",
       "      <td>29.503352</td>\n",
       "      <td>4.993829</td>\n",
       "      <td>0.050486</td>\n",
       "      <td>0.010110</td>\n",
       "    </tr>\n",
       "    <tr>\n",
       "      <th>35-44</th>\n",
       "      <td>39.494680</td>\n",
       "      <td>5.021507</td>\n",
       "      <td>0.051679</td>\n",
       "      <td>0.010292</td>\n",
       "    </tr>\n",
       "    <tr>\n",
       "      <th>45-54</th>\n",
       "      <td>49.492580</td>\n",
       "      <td>5.010406</td>\n",
       "      <td>0.050274</td>\n",
       "      <td>0.010034</td>\n",
       "    </tr>\n",
       "    <tr>\n",
       "      <th>55-64</th>\n",
       "      <td>59.498189</td>\n",
       "      <td>5.022308</td>\n",
       "      <td>0.101837</td>\n",
       "      <td>0.020277</td>\n",
       "    </tr>\n",
       "    <tr>\n",
       "      <th>65+</th>\n",
       "      <td>72.988697</td>\n",
       "      <td>5.012347</td>\n",
       "      <td>0.151289</td>\n",
       "      <td>0.030183</td>\n",
       "    </tr>\n",
       "    <tr>\n",
       "      <th>&lt;18</th>\n",
       "      <td>15.262149</td>\n",
       "      <td>5.007159</td>\n",
       "      <td>0.149335</td>\n",
       "      <td>0.029824</td>\n",
       "    </tr>\n",
       "  </tbody>\n",
       "</table>\n",
       "</div>"
      ],
      "text/plain": [
       "                 Age  Impressions    Clicks       CTR\n",
       "age_group                                            \n",
       "18-24      20.833317     5.002826  0.053251  0.010644\n",
       "25-34      29.503352     4.993829  0.050486  0.010110\n",
       "35-44      39.494680     5.021507  0.051679  0.010292\n",
       "45-54      49.492580     5.010406  0.050274  0.010034\n",
       "55-64      59.498189     5.022308  0.101837  0.020277\n",
       "65+        72.988697     5.012347  0.151289  0.030183\n",
       "<18        15.262149     5.007159  0.149335  0.029824"
      ]
     },
     "execution_count": 47,
     "metadata": {},
     "output_type": "execute_result"
    }
   ],
   "source": [
    "grouped_data[\"CTR\"] = grouped_data.Clicks / grouped_data.Impressions\n",
    "grouped_data"
   ]
  },
  {
   "cell_type": "code",
   "execution_count": 48,
   "id": "3d61c7b9",
   "metadata": {},
   "outputs": [
    {
     "data": {
      "text/plain": [
       "<AxesSubplot: xlabel='age_group', ylabel='CTR'>"
      ]
     },
     "execution_count": 48,
     "metadata": {},
     "output_type": "execute_result"
    },
    {
     "data": {
      "image/png": "[encoded data removed]",
      "text/plain": [
       "<Figure size 640x480 with 1 Axes>"
      ]
     },
     "metadata": {},
     "output_type": "display_data"
    }
   ],
   "source": [
    "grouped_data.CTR.plot(kind=\"bar\", ylabel=\"CTR\")"
   ]
  },
  {
   "cell_type": "code",
   "execution_count": null,
   "id": "d7b38a4f",
   "metadata": {},
   "outputs": [],
   "source": []
  },
  {
   "cell_type": "code",
   "execution_count": 49,
   "id": "05deb411",
   "metadata": {},
   "outputs": [
    {
     "data": {
      "text/html": [
       "<div>\n",
       "<style scoped>\n",
       "    .dataframe tbody tr th:only-of-type {\n",
       "        vertical-align: middle;\n",
       "    }\n",
       "\n",
       "    .dataframe tbody tr th {\n",
       "        vertical-align: top;\n",
       "    }\n",
       "\n",
       "    .dataframe thead th {\n",
       "        text-align: right;\n",
       "    }\n",
       "</style>\n",
       "<table border=\"1\" class=\"dataframe\">\n",
       "  <thead>\n",
       "    <tr style=\"text-align: right;\">\n",
       "      <th></th>\n",
       "      <th>Impressions</th>\n",
       "      <th>Clicks</th>\n",
       "    </tr>\n",
       "    <tr>\n",
       "      <th>Gender</th>\n",
       "      <th></th>\n",
       "      <th></th>\n",
       "    </tr>\n",
       "  </thead>\n",
       "  <tbody>\n",
       "    <tr>\n",
       "      <th>0</th>\n",
       "      <td>136292</td>\n",
       "      <td>1388</td>\n",
       "    </tr>\n",
       "    <tr>\n",
       "      <th>1</th>\n",
       "      <td>154219</td>\n",
       "      <td>1549</td>\n",
       "    </tr>\n",
       "  </tbody>\n",
       "</table>\n",
       "</div>"
      ],
      "text/plain": [
       "        Impressions  Clicks\n",
       "Gender                     \n",
       "0            136292    1388\n",
       "1            154219    1549"
      ]
     },
     "execution_count": 49,
     "metadata": {},
     "output_type": "execute_result"
    }
   ],
   "source": [
    "#grouped_data_genders = data_no_null_age.groupby([\"Gender\", \"age_group\"]).count()\n",
    "grouped_data_genders = data_no_null_age.loc[data_no_null_age[\"age_group\"] == \"25-34\"].groupby(\"Gender\")[[\"Impressions\", \"Clicks\"]].sum()\n",
    "grouped_data_genders"
   ]
  },
  {
   "cell_type": "code",
   "execution_count": 50,
   "id": "2f9932bb",
   "metadata": {},
   "outputs": [
    {
     "data": {
      "text/plain": [
       "<AxesSubplot: xlabel='Gender', ylabel='Number'>"
      ]
     },
     "execution_count": 50,
     "metadata": {},
     "output_type": "execute_result"
    },
    {
     "data": {
      "image/png": "[encoded data removed]",
      "text/plain": [
       "<Figure size 640x480 with 1 Axes>"
      ]
     },
     "metadata": {},
     "output_type": "display_data"
    }
   ],
   "source": [
    "grouped_data_genders.plot(kind=\"bar\", xlabel=\"Gender\", ylabel=\"Number\")"
   ]
  },
  {
   "cell_type": "code",
   "execution_count": 89,
   "id": "9c5fb78b",
   "metadata": {},
   "outputs": [
    {
     "data": {
      "text/plain": [
       "<AxesSubplot: xlabel='Gender(1-male, 2-female) Age_group', ylabel='Impressions median'>"
      ]
     },
     "execution_count": 89,
     "metadata": {},
     "output_type": "execute_result"
    },
    {
     "data": {
      "image/png": "[encoded data removed]",
      "text/plain": [
       "<Figure size 640x480 with 1 Axes>"
      ]
     },
     "metadata": {},
     "output_type": "display_data"
    }
   ],
   "source": [
    "grouped_data_statistic = data_no_null_age.groupby([\"Gender\", \"age_group\"])\n",
    "grouped_data_statistic.Impressions.median().plot(kind=\"bar\", grid = \"true\", xlabel=\"Gender(1-male, 2-female) Age_group\", ylabel=\"Impressions median\")\n",
    "#grouped_data_genders = data_no_null_age.groupby([\"Gender\", \"age_group\"])\n",
    "#grouped_data_genders[\"CTR\"] = grouped_data_genders.Clicks / grouped_data_genders.Impressions"
   ]
  },
  {
   "cell_type": "code",
   "execution_count": 52,
   "id": "0b414841",
   "metadata": {},
   "outputs": [
    {
     "data": {
      "text/plain": [
       "<AxesSubplot: xlabel='Gender(1-male, 2-female) Age_group', ylabel='Max clicks'>"
      ]
     },
     "execution_count": 52,
     "metadata": {},
     "output_type": "execute_result"
    },
    {
     "data": {
      "image/png": "[encoded data removed]",
      "text/plain": [
       "<Figure size 640x480 with 1 Axes>"
      ]
     },
     "metadata": {},
     "output_type": "display_data"
    }
   ],
   "source": [
    "grouped_data_statistic.Clicks.max().plot(kind=\"bar\", grid = \"true\", xlabel=\"Gender(1-male, 2-female) Age_group\", ylabel=\"Max clicks\")"
   ]
  },
  {
   "cell_type": "code",
   "execution_count": 53,
   "id": "e7548f16",
   "metadata": {},
   "outputs": [
    {
     "data": {
      "text/plain": [
       "<AxesSubplot: xlabel='Gender(1-male, 2-female) Age_group', ylabel='Impressions Max'>"
      ]
     },
     "execution_count": 53,
     "metadata": {},
     "output_type": "execute_result"
    },
    {
     "data": {
      "image/png": "[encoded data removed]",
      "text/plain": [
       "<Figure size 640x480 with 1 Axes>"
      ]
     },
     "metadata": {},
     "output_type": "display_data"
    }
   ],
   "source": [
    "grouped_data_statistic.Impressions.max().plot(kind=\"bar\", grid = \"true\", xlabel=\"Gender(1-male, 2-female) Age_group\", ylabel=\"Impressions Max\")"
   ]
  },
  {
   "cell_type": "code",
   "execution_count": 54,
   "id": "c4607cd7",
   "metadata": {},
   "outputs": [
    {
     "name": "stderr",
     "output_type": "stream",
     "text": [
      "C:\\Users\\Павло\\AppData\\Local\\Temp\\ipykernel_5904\\1660560067.py:1: FutureWarning: Indexing with multiple keys (implicitly converted to a tuple of keys) will be deprecated, use a list instead.\n",
      "  grouped_data_statistic[\"Age\", \"Clicks\"].std().plot(kind=\"bar\", xlabel=\"Gender(1-male, 2-female) Age_group\", ylabel=\"Dispersion\")\n"
     ]
    },
    {
     "data": {
      "text/plain": [
       "<AxesSubplot: xlabel='Gender(1-male, 2-female) Age_group', ylabel='Dispersion'>"
      ]
     },
     "execution_count": 54,
     "metadata": {},
     "output_type": "execute_result"
    },
    {
     "data": {
      "image/png": "[encoded data removed]",
      "text/plain": [
       "<Figure size 640x480 with 1 Axes>"
      ]
     },
     "metadata": {},
     "output_type": "display_data"
    }
   ],
   "source": [
    "grouped_data_statistic[\"Age\", \"Clicks\"].std().plot(kind=\"bar\", xlabel=\"Gender(1-male, 2-female) Age_group\", ylabel=\"Dispersion\")"
   ]
  },
  {
   "cell_type": "code",
   "execution_count": 55,
   "id": "efc17056",
   "metadata": {},
   "outputs": [
    {
     "data": {
      "text/plain": [
       "<AxesSubplot: xlabel='Gender(1-male, 2-female) Age_group', ylabel='Clicks mean'>"
      ]
     },
     "execution_count": 55,
     "metadata": {},
     "output_type": "execute_result"
    },
    {
     "data": {
      "image/png": "[encoded data removed]",
      "text/plain": [
       "<Figure size 640x480 with 1 Axes>"
      ]
     },
     "metadata": {},
     "output_type": "display_data"
    }
   ],
   "source": [
    "grouped_data_statistic.Clicks.mean().plot(kind=\"bar\", grid = \"true\", xlabel=\"Gender(1-male, 2-female) Age_group\", ylabel=\"Clicks mean\")"
   ]
  },
  {
   "cell_type": "code",
   "execution_count": 56,
   "id": "34ef1248",
   "metadata": {},
   "outputs": [],
   "source": [
    "grouped_data_age = grouped_data_statistic = data_no_null_age.groupby([\"age_group\"])"
   ]
  },
  {
   "cell_type": "code",
   "execution_count": 103,
   "id": "d0f021dd",
   "metadata": {},
   "outputs": [
    {
     "data": {
      "text/html": [
       "<div>\n",
       "<style scoped>\n",
       "    .dataframe tbody tr th:only-of-type {\n",
       "        vertical-align: middle;\n",
       "    }\n",
       "\n",
       "    .dataframe tbody tr th {\n",
       "        vertical-align: top;\n",
       "    }\n",
       "\n",
       "    .dataframe thead th {\n",
       "        text-align: right;\n",
       "    }\n",
       "</style>\n",
       "<table border=\"1\" class=\"dataframe\">\n",
       "  <thead>\n",
       "    <tr style=\"text-align: right;\">\n",
       "      <th></th>\n",
       "      <th>mean_impressions</th>\n",
       "      <th>mean_clicks</th>\n",
       "      <th>disp_impressions</th>\n",
       "      <th>disp_clicks</th>\n",
       "      <th>max_impressions</th>\n",
       "      <th>max_clicks</th>\n",
       "      <th>quantile_impressions</th>\n",
       "      <th>quantile_clicks</th>\n",
       "    </tr>\n",
       "    <tr>\n",
       "      <th>age_group</th>\n",
       "      <th></th>\n",
       "      <th></th>\n",
       "      <th></th>\n",
       "      <th></th>\n",
       "      <th></th>\n",
       "      <th></th>\n",
       "      <th></th>\n",
       "      <th></th>\n",
       "    </tr>\n",
       "  </thead>\n",
       "  <tbody>\n",
       "    <tr>\n",
       "      <th>18-24</th>\n",
       "      <td>5.002826</td>\n",
       "      <td>0.053251</td>\n",
       "      <td>2.244950</td>\n",
       "      <td>0.231010</td>\n",
       "      <td>17</td>\n",
       "      <td>2</td>\n",
       "      <td>5.0</td>\n",
       "      <td>0.0</td>\n",
       "    </tr>\n",
       "    <tr>\n",
       "      <th>25-34</th>\n",
       "      <td>4.993829</td>\n",
       "      <td>0.050486</td>\n",
       "      <td>2.226877</td>\n",
       "      <td>0.224147</td>\n",
       "      <td>17</td>\n",
       "      <td>2</td>\n",
       "      <td>5.0</td>\n",
       "      <td>0.0</td>\n",
       "    </tr>\n",
       "    <tr>\n",
       "      <th>35-44</th>\n",
       "      <td>5.021507</td>\n",
       "      <td>0.051679</td>\n",
       "      <td>2.237829</td>\n",
       "      <td>0.225861</td>\n",
       "      <td>20</td>\n",
       "      <td>3</td>\n",
       "      <td>5.0</td>\n",
       "      <td>0.0</td>\n",
       "    </tr>\n",
       "    <tr>\n",
       "      <th>45-54</th>\n",
       "      <td>5.010406</td>\n",
       "      <td>0.050274</td>\n",
       "      <td>2.240790</td>\n",
       "      <td>0.225034</td>\n",
       "      <td>17</td>\n",
       "      <td>2</td>\n",
       "      <td>5.0</td>\n",
       "      <td>0.0</td>\n",
       "    </tr>\n",
       "    <tr>\n",
       "      <th>55-64</th>\n",
       "      <td>5.022308</td>\n",
       "      <td>0.101837</td>\n",
       "      <td>2.230206</td>\n",
       "      <td>0.318704</td>\n",
       "      <td>16</td>\n",
       "      <td>3</td>\n",
       "      <td>5.0</td>\n",
       "      <td>0.0</td>\n",
       "    </tr>\n",
       "    <tr>\n",
       "      <th>65+</th>\n",
       "      <td>5.012347</td>\n",
       "      <td>0.151289</td>\n",
       "      <td>2.249162</td>\n",
       "      <td>0.384373</td>\n",
       "      <td>16</td>\n",
       "      <td>3</td>\n",
       "      <td>5.0</td>\n",
       "      <td>1.0</td>\n",
       "    </tr>\n",
       "    <tr>\n",
       "      <th>&lt;18</th>\n",
       "      <td>5.007159</td>\n",
       "      <td>0.149335</td>\n",
       "      <td>2.271897</td>\n",
       "      <td>0.383411</td>\n",
       "      <td>16</td>\n",
       "      <td>3</td>\n",
       "      <td>5.0</td>\n",
       "      <td>1.0</td>\n",
       "    </tr>\n",
       "  </tbody>\n",
       "</table>\n",
       "</div>"
      ],
      "text/plain": [
       "           mean_impressions  mean_clicks  disp_impressions  disp_clicks  \\\n",
       "age_group                                                                 \n",
       "18-24              5.002826     0.053251          2.244950     0.231010   \n",
       "25-34              4.993829     0.050486          2.226877     0.224147   \n",
       "35-44              5.021507     0.051679          2.237829     0.225861   \n",
       "45-54              5.010406     0.050274          2.240790     0.225034   \n",
       "55-64              5.022308     0.101837          2.230206     0.318704   \n",
       "65+                5.012347     0.151289          2.249162     0.384373   \n",
       "<18                5.007159     0.149335          2.271897     0.383411   \n",
       "\n",
       "           max_impressions  max_clicks  quantile_impressions  quantile_clicks  \n",
       "age_group                                                                      \n",
       "18-24                   17           2                   5.0              0.0  \n",
       "25-34                   17           2                   5.0              0.0  \n",
       "35-44                   20           3                   5.0              0.0  \n",
       "45-54                   17           2                   5.0              0.0  \n",
       "55-64                   16           3                   5.0              0.0  \n",
       "65+                     16           3                   5.0              1.0  \n",
       "<18                     16           3                   5.0              1.0  "
      ]
     },
     "execution_count": 103,
     "metadata": {},
     "output_type": "execute_result"
    }
   ],
   "source": [
    "table = grouped_data_age[[\"Impressions\", \"Clicks\"]].mean()\n",
    "table.rename(columns={\"Impressions\": \"mean_impressions\", \"Clicks\": \"mean_clicks\"}, inplace=True)\n",
    "table[\"disp_impressions\"] = grouped_data_age[\"Impressions\"].std()\n",
    "table[\"disp_clicks\"] = grouped_data_age[\"Clicks\"].std()\n",
    "table[\"max_impressions\"] = grouped_data_age[\"Impressions\"].max()\n",
    "table[\"max_clicks\"] = grouped_data_age[\"Clicks\"].max()\n",
    "table[\"quantile_impressions\"] = grouped_data_age[\"Impressions\"].quantile(0.5)\n",
    "table[\"quantile_clicks\"] = grouped_data_age[\"Clicks\"].quantile(0.9)\n",
    "table"
   ]
  },
  {
   "cell_type": "code",
   "execution_count": null,
   "id": "6fd02932",
   "metadata": {},
   "outputs": [],
   "source": []
  }
 ],
 "metadata": {
  "kernelspec": {
   "display_name": "Python 3 (ipykernel)",
   "language": "python",
   "name": "python3"
  },
  "language_info": {
   "codemirror_mode": {
    "name": "ipython",
    "version": 3
   },
   "file_extension": ".py",
   "mimetype": "text/x-python",
   "name": "python",
   "nbconvert_exporter": "python",
   "pygments_lexer": "ipython3",
   "version": "3.10.7"
  }
 },
 "nbformat": 4,
 "nbformat_minor": 5
}
